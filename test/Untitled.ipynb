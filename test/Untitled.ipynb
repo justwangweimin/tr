{
 "cells": [
  {
   "cell_type": "code",
   "execution_count": 13,
   "metadata": {
    "collapsed": false
   },
   "outputs": [],
   "source": [
    "\n",
    "import h5py  #导入工具包  \n",
    "import numpy as np  \n",
    "#HDF5的写入：  \n",
    "imgData = np.zeros((2, 2))  \n",
    "f = h5py.File('/tmp/HDF5_FILE.h5','w')   #创建一个h5文件，文件指针是f  \n",
    "f['data'] = imgData                 #将数据写入文件的主键data下面  \n",
    "f['labels'] = range(100)            #将数据写入文件的主键labels下面  \n",
    "f.close()                           #关闭文件  \n",
    "  \n"
   ]
  },
  {
   "cell_type": "code",
   "execution_count": 14,
   "metadata": {
    "collapsed": false
   },
   "outputs": [
    {
     "data": {
      "text/plain": [
       "KeysView(<HDF5 file \"HDF5_FILE.h5\" (mode r)>)"
      ]
     },
     "execution_count": 14,
     "metadata": {},
     "output_type": "execute_result"
    }
   ],
   "source": [
    "#HDF5的读取：  \n",
    "f = h5py.File('/tmp/HDF5_FILE.h5','r')   #打开h5文件  \n",
    "f.keys()                            #可以查看所有的主键  \n",
    "# a = f['data'][:]                    #取出主键为data的所有的键值  \n",
    "# f.close()"
   ]
  },
  {
   "cell_type": "code",
   "execution_count": 16,
   "metadata": {
    "collapsed": false
   },
   "outputs": [
    {
     "name": "stdout",
     "output_type": "stream",
     "text": [
      "[[ 0.  0.]\n",
      " [ 0.  0.]]\n"
     ]
    }
   ],
   "source": [
    "a = f['data'][:]\n",
    "print(a)"
   ]
  },
  {
   "cell_type": "code",
   "execution_count": 23,
   "metadata": {
    "collapsed": false
   },
   "outputs": [
    {
     "name": "stdout",
     "output_type": "stream",
     "text": [
      "<HDF5 dataset \"labels\": shape (100,), type \"<i8\">\n",
      "(100,)\n",
      "int64\n"
     ]
    }
   ],
   "source": [
    "b= f['labels']\n",
    "print(b)\n",
    "print(b.shape)\n",
    "print(b.dtype)"
   ]
  },
  {
   "cell_type": "code",
   "execution_count": 25,
   "metadata": {
    "collapsed": false
   },
   "outputs": [],
   "source": [
    "f1 = h5py.File('/tmp/HDF5_FILE1.h5','a')\n",
    "dset = f1.create_dataset(\"mydataset\", (100,), dtype='i')"
   ]
  },
  {
   "cell_type": "code",
   "execution_count": 27,
   "metadata": {
    "collapsed": false
   },
   "outputs": [
    {
     "data": {
      "text/plain": [
       "<bound method MappingHDF5.keys of <HDF5 file \"HDF5_FILE1.h5\" (mode r+)>>"
      ]
     },
     "execution_count": 27,
     "metadata": {},
     "output_type": "execute_result"
    }
   ],
   "source": [
    "f1.keys"
   ]
  },
  {
   "cell_type": "code",
   "execution_count": null,
   "metadata": {
    "collapsed": true
   },
   "outputs": [],
   "source": [
    "import os\n",
    "dir_path = \"/hoem/zjjj/hehh\"\n",
    "for root, dirs, files in os.walk(dir_path):\n",
    "    print(files)"
   ]
  }
 ],
 "metadata": {
  "anaconda-cloud": {},
  "kernelspec": {
   "display_name": "Python [conda root]",
   "language": "python",
   "name": "conda-root-py"
  },
  "language_info": {
   "codemirror_mode": {
    "name": "ipython",
    "version": 3
   },
   "file_extension": ".py",
   "mimetype": "text/x-python",
   "name": "python",
   "nbconvert_exporter": "python",
   "pygments_lexer": "ipython3",
   "version": "3.5.2"
  }
 },
 "nbformat": 4,
 "nbformat_minor": 1
}
